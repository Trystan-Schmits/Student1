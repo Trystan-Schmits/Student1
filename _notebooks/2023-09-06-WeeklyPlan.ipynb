{
 "cells": [
  {
   "cell_type": "markdown",
   "metadata": {},
   "source": [
    "---\n",
    "comments: false\n",
    "layout: post\n",
    "title: Weekly Plan\n",
    "description: My plan for this shortened week\n",
    "type: plans\n",
    "courses: { csse: {week: 3} }\n",
    "categories: [C4.1]\n",
    "---"
   ]
  },
  {
   "cell_type": "markdown",
   "metadata": {},
   "source": [
    "|Wednesday|Thursday|Friday|\n",
    "|---------|--------|------|\n",
    "|create plane and plan| continue creating stuff| finish stufff|"
   ]
  }
 ],
 "metadata": {
  "language_info": {
   "name": "python"
  },
  "orig_nbformat": 4
 },
 "nbformat": 4,
 "nbformat_minor": 2
}
