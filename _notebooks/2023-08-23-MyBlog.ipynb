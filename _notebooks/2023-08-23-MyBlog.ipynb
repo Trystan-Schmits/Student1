{
 "cells": [
  {
   "cell_type": "markdown",
   "metadata": {},
   "source": [
    "---\n",
    "comments: true\n",
    "layout: post\n",
    "title: My Blog\n",
    "description: My updatable student blog\n",
    "type: hacks\n",
    "courses: { csse: {week: 0}, csp: {week: 0}, csa: {week: 0} }\n",
    "categories: [C4.1]\n",
    "---"
   ]
  },
  {
   "cell_type": "markdown",
   "metadata": {},
   "source": [
    "## **My Blog** ##"
   ]
  },
  {
   "cell_type": "markdown",
   "metadata": {},
   "source": [
    "# 8/23/2023 #"
   ]
  },
  {
   "cell_type": "code",
   "execution_count": 1,
   "metadata": {
    "vscode": {
     "languageId": "html"
    }
   },
   "outputs": [
    {
     "data": {
      "text/html": [
       "<img src=\"{{site.baseurl}}/images/freeform.jpg\" alt = \"freeform image\">\n",
       "\n",
       "<p> My freeform image starts with a large image of missouri, the state I was born in. \n",
       "    Within the state there is a star located at St. Louis, my birth city, and going away from the start\n",
       "    there is an arrow showing that I moved away to california. I enjoy many things, some of which are\n",
       "    represented in the picture. For example I enjoy relaxing and playing games, both of which are listed\n",
       "    in the picture directly. Within these large 2 catagories are more specfic things I enjoy, like riding\n",
       "    my bike and playing on my computer\n",
       "</p>\n"
      ],
      "text/plain": [
       "<IPython.core.display.HTML object>"
      ]
     },
     "metadata": {},
     "output_type": "display_data"
    }
   ],
   "source": [
    "%%HTML\n",
    "<img src=\"{{site.baseurl}}/images/freeform.jpg\" alt = \"freeform image\">\n",
    "\n",
    "<p> My freeform image starts with a large image of missouri, the state I was born in. \n",
    "    Within the state there is a star located at St. Louis, my birth city, and going away from the start\n",
    "    there is an arrow showing that I moved away to california. I enjoy many things, some of which are\n",
    "    represented in the picture. For example I enjoy relaxing and playing games, both of which are listed\n",
    "    in the picture directly. Within these large 2 catagories are more specfic things I enjoy, like riding\n",
    "    my bike and playing on my computer\n",
    "</p>"
   ]
  },
  {
   "cell_type": "markdown",
   "metadata": {},
   "source": [
    "# 8/24/2023 #"
   ]
  },
  {
   "cell_type": "markdown",
   "metadata": {},
   "source": [
    "Basic Python"
   ]
  },
  {
   "cell_type": "code",
   "execution_count": 6,
   "metadata": {},
   "outputs": [
    {
     "name": "stdout",
     "output_type": "stream",
     "text": [
      "I Am A String, I Am One As Well\n"
     ]
    }
   ],
   "source": [
    "string1 = \"I Am A String\"\n",
    "string2 = \"I Am One As Well\"\n",
    "\n",
    "combineString = string1+\", \"+string2\n",
    "print(combineString)"
   ]
  },
  {
   "cell_type": "markdown",
   "metadata": {},
   "source": [
    "Drawing a graph"
   ]
  },
  {
   "cell_type": "code",
   "execution_count": 26,
   "metadata": {},
   "outputs": [
    {
     "data": {
      "image/png": "[encoded data removed]",
      "text/plain": [
       "<Figure size 432x288 with 1 Axes>"
      ]
     },
     "metadata": {
      "needs_background": "light"
     },
     "output_type": "display_data"
    }
   ],
   "source": [
    "import matplotlib.pyplot as plt\n",
    "x = [1,2,3]\n",
    "y = [2,4,1]\n",
    "\n",
    "xf = []\n",
    "yf = []\n",
    "\n",
    "for i in range(101):\n",
    "    x_1 = (1-(i/100))*x[0] + x[1]*(i/100)\n",
    "    x_2 = (1-(i/100))*x[1] + x[2]*(i/100)\n",
    "    x_3 = (1-(i/100))*x_1 + x_2*(i/100)\n",
    "    xf.insert(i,x_3)\n",
    "\n",
    "    y_1 = (1-(i/100))*y[0] + y[1]*(i/100)\n",
    "    y_2 = (1-(i/100))*y[1] + y[2]*(i/100)\n",
    "    y_3 = (1-(i/100))*y_1 + y_2*(i/100)\n",
    "    yf.insert(i,y_3)\n",
    "\n",
    "plt.plot(xf,yf)\n",
    "plt.show()"
   ]
  },
  {
   "cell_type": "code",
   "execution_count": 23,
   "metadata": {
    "vscode": {
     "languageId": "html"
    }
   },
   "outputs": [
    {
     "data": {
      "text/html": [
       "    <p><b> This is what that wouldve shown</b></p>\n",
       "    <img src=\"{{site.baseurl}}/images/output.png\" alt = \"graph\">\n"
      ],
      "text/plain": [
       "<IPython.core.display.HTML object>"
      ]
     },
     "metadata": {},
     "output_type": "display_data"
    }
   ],
   "source": [
    "%%HTML\n",
    "    <p><b> This is what python would've shown</b></p>\n",
    "    <img src=\"{{site.baseurl}}/images/output.png\" alt = \"graph\">\n"
   ]
  },
  {
   "cell_type": "markdown",
   "metadata": {},
   "source": [
    "# 8/28/2023 #"
   ]
  },
  {
   "cell_type": "code",
   "execution_count": 27,
   "metadata": {
    "vscode": {
     "languageId": "html"
    }
   },
   "outputs": [
    {
     "data": {
      "text/html": [
       "\n",
       "<button onclick=\"myFunction(1)\"> 1  </button>\n",
       "<button onclick=\"myFunction(2)\"> 2  </button>\n",
       "<button onclick=\"myFunction(3)\"> 3  </button>\n",
       "<button onclick=\"myFunction(4)\"> 4  </button>\n",
       "<button onclick=\"myFunction(5)\"> 5  </button>\n",
       "<button onclick=\"myFunction(6)\"> 6  </button>\n",
       "<button onclick=\"myFunction(7)\"> 7  </button>\n",
       "<button onclick=\"myFunction(8)\"> 8  </button>\n",
       "<button onclick=\"myFunction(9)\"> 9  </button>\n",
       "<button onclick=\"myFunction(0)\"> 0  </button>\n",
       "<button onclick=\"modif(1)\"> + </button>\n",
       "<button onclick=\"modif(2)\"> - </button>\n",
       "<button onclick=\"modif(3)\"> x </button>\n",
       "<button onclick=\"modif(4)\"> ÷ </button>\n",
       "<button onclick=\"equal()\"> = </button>\n",
       "<p id =\"text\"> 0</p>\n",
       "\n",
       "<script> \n",
       "    let state = 0;\n",
       "    let runningTotal = 0;\n",
       "    const peices = [];\n",
       "    const funcs = [];\n",
       "\n",
       "    function equal() {\n",
       "        peices[peices.length] = runningTotal\n",
       "        let tempRun = peices[0];\n",
       "        const temp = []; //values\n",
       "        const temp2 = []; // operators\n",
       "        \n",
       "        for (let i = 0; i < funcs.length; i++) {\n",
       "        \n",
       "            if (funcs[i]==3){//multiplication\n",
       "                tempRun = tempRun*peices[i+1];\n",
       "                continue;\n",
       "            }\n",
       "            if (funcs[i]==4) { //divison\n",
       "                tempRun = tempRun/peices[i+1];\n",
       "                continue;\n",
       "            }\n",
       "            if (funcs[i]==1) { //addition\n",
       "                temp[temp.length] = tempRun;               \n",
       "                temp2[temp2.length] = 1;\n",
       "                tempRun = peices[i+1];\n",
       "                continue;\n",
       "            }\n",
       "            if (funcs[i]==2) { //subtraction\n",
       "                temp[temp.length] = tempRun;\n",
       "                temp2[temp2.length] = 2;\n",
       "                tempRun = peices[i+1];\n",
       "                continue;\n",
       "            }\n",
       "        }\n",
       "        temp[temp.length] = tempRun;\n",
       "        \n",
       "        tempRun = temp[0];\n",
       "        for (let i = 0; i < temp2.length; i++) {\n",
       "            if (temp2[i]==1) {\n",
       "                tempRun += temp[i+1];\n",
       "            }\n",
       "            else {\n",
       "                tempRun -= temp[i+1];\n",
       "            }\n",
       "        }\n",
       "        document.getElementById(\"text\").innerText = \"=\"+tempRun;\n",
       "        runningTotal = tempRun;\n",
       "        state = 1;\n",
       "        funcs.length = 0;\n",
       "        peices.length = 0;\n",
       "        \n",
       "    }\n",
       "\n",
       "    function modif(a) {\n",
       "        if (a==1){\n",
       "    \tdocument.getElementById(\"text\").innerText = runningTotal+\"+\";\n",
       "        }\n",
       "        if (a==2){\n",
       "    \tdocument.getElementById(\"text\").innerText = runningTotal+\"-\";\n",
       "        }\n",
       "        if (a==3){\n",
       "    \tdocument.getElementById(\"text\").innerText = runningTotal+\"x\";\n",
       "        }\n",
       "        if (a==4){\n",
       "    \tdocument.getElementById(\"text\").innerText = runningTotal+\"÷\";\n",
       "        }\n",
       "\n",
       "        peices[peices.length] = runningTotal;\n",
       "        runningTotal = 0;\n",
       "        funcs[funcs.length] = a;\n",
       "        state = 0;\n",
       "        \n",
       "    }\n",
       "\n",
       "    function myFunction(a) {\n",
       "        if (state==1){\n",
       "            runningTotal = 0;\n",
       "            state = 0;\n",
       "        }\n",
       "        runningTotal = runningTotal*10 + a;\n",
       "        document.getElementById(\"text\").innerText = runningTotal;\n",
       "    }\n",
       "    </script>\n"
      ],
      "text/plain": [
       "<IPython.core.display.HTML object>"
      ]
     },
     "metadata": {},
     "output_type": "display_data"
    }
   ],
   "source": [
    "%%HTML\n",
    "\n",
    "<button onclick=\"myFunction(1)\"> 1  </button>\n",
    "<button onclick=\"myFunction(2)\"> 2  </button>\n",
    "<button onclick=\"myFunction(3)\"> 3  </button>\n",
    "<button onclick=\"myFunction(4)\"> 4  </button>\n",
    "<button onclick=\"myFunction(5)\"> 5  </button>\n",
    "<button onclick=\"myFunction(6)\"> 6  </button>\n",
    "<button onclick=\"myFunction(7)\"> 7  </button>\n",
    "<button onclick=\"myFunction(8)\"> 8  </button>\n",
    "<button onclick=\"myFunction(9)\"> 9  </button>\n",
    "<button onclick=\"myFunction(0)\"> 0  </button>\n",
    "<button onclick=\"modif(1)\"> + </button>\n",
    "<button onclick=\"modif(2)\"> - </button>\n",
    "<button onclick=\"modif(3)\"> x </button>\n",
    "<button onclick=\"modif(4)\"> ÷ </button>\n",
    "<button onclick=\"equal()\"> = </button>\n",
    "<p id =\"text\"> 0</p>\n",
    "\n",
    "<script> \n",
    "    let state = 0;\n",
    "    let runningTotal = 0;\n",
    "    const peices = [];\n",
    "    const funcs = [];\n",
    "\n",
    "    function equal() {\n",
    "        peices[peices.length] = runningTotal\n",
    "        let tempRun = peices[0];\n",
    "        const temp = []; //values\n",
    "        const temp2 = []; // operators\n",
    "        \n",
    "        for (let i = 0; i < funcs.length; i++) {\n",
    "        \n",
    "            if (funcs[i]==3){//multiplication\n",
    "                tempRun = tempRun*peices[i+1];\n",
    "                continue;\n",
    "            }\n",
    "            if (funcs[i]==4) { //divison\n",
    "                tempRun = tempRun/peices[i+1];\n",
    "                continue;\n",
    "            }\n",
    "            if (funcs[i]==1) { //addition\n",
    "                temp[temp.length] = tempRun;               \n",
    "                temp2[temp2.length] = 1;\n",
    "                tempRun = peices[i+1];\n",
    "                continue;\n",
    "            }\n",
    "            if (funcs[i]==2) { //subtraction\n",
    "                temp[temp.length] = tempRun;\n",
    "                temp2[temp2.length] = 2;\n",
    "                tempRun = peices[i+1];\n",
    "                continue;\n",
    "            }\n",
    "        }\n",
    "        temp[temp.length] = tempRun;\n",
    "        \n",
    "        tempRun = temp[0];\n",
    "        for (let i = 0; i < temp2.length; i++) {\n",
    "            if (temp2[i]==1) {\n",
    "                tempRun += temp[i+1];\n",
    "            }\n",
    "            else {\n",
    "                tempRun -= temp[i+1];\n",
    "            }\n",
    "        }\n",
    "        document.getElementById(\"text\").innerText = \"=\"+tempRun;\n",
    "        runningTotal = tempRun;\n",
    "        state = 1;\n",
    "        funcs.length = 0;\n",
    "        peices.length = 0;\n",
    "        \n",
    "    }\n",
    "\n",
    "    function modif(a) {\n",
    "        if (a==1){\n",
    "    \tdocument.getElementById(\"text\").innerText = runningTotal+\"+\";\n",
    "        }\n",
    "        if (a==2){\n",
    "    \tdocument.getElementById(\"text\").innerText = runningTotal+\"-\";\n",
    "        }\n",
    "        if (a==3){\n",
    "    \tdocument.getElementById(\"text\").innerText = runningTotal+\"x\";\n",
    "        }\n",
    "        if (a==4){\n",
    "    \tdocument.getElementById(\"text\").innerText = runningTotal+\"÷\";\n",
    "        }\n",
    "\n",
    "        peices[peices.length] = runningTotal;\n",
    "        runningTotal = 0;\n",
    "        funcs[funcs.length] = a;\n",
    "        state = 0;\n",
    "        \n",
    "    }\n",
    "\n",
    "    function myFunction(a) {\n",
    "        if (state==1){\n",
    "            runningTotal = 0;\n",
    "            state = 0;\n",
    "        }\n",
    "        runningTotal = runningTotal*10 + a;\n",
    "        document.getElementById(\"text\").innerText = runningTotal;\n",
    "    }\n",
    "    </script>"
   ]
  }
 ],
 "metadata": {
  "kernelspec": {
   "display_name": "Python 3",
   "language": "python",
   "name": "python3"
  },
  "language_info": {
   "codemirror_mode": {
    "name": "ipython",
    "version": 3
   },
   "file_extension": ".py",
   "mimetype": "text/x-python",
   "name": "python",
   "nbconvert_exporter": "python",
   "pygments_lexer": "ipython3",
   "version": "3.10.12"
  },
  "orig_nbformat": 4
 },
 "nbformat": 4,
 "nbformat_minor": 2
}
