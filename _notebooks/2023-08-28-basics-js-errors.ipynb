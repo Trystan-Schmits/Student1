{
 "cells": [
  {
   "cell_type": "markdown",
   "metadata": {},
   "source": [
    "---\n",
    "layout: post\n",
    "title: 1.4 Correcting errors\n",
    "description: Practice with identifying and correcting code blocks\n",
    "type: ccc\n",
    "permalink: /basics/js-debug\n",
    "hide: True\n",
    "comments: True\n",
    "---"
   ]
  },
  {
   "cell_type": "markdown",
   "metadata": {},
   "source": [
    "{% include nav_basics.html %}"
   ]
  },
  {
   "cell_type": "markdown",
   "metadata": {},
   "source": [
    "[College Board Big Idea 1](https://apclassroom.collegeboard.org/103/home?unit=1)\n",
    "\n",
    "## Identifying and Correcting Errors (Unit 1.4)\n",
    "\n",
    "> Become familiar with types of errors and strategies for fixing them\n",
    "\n",
    "- Review CollegeBoard videos and take notes on blog\n",
    "- Complete assigned MCQ questions if applicable"
   ]
  },
  {
   "cell_type": "markdown",
   "metadata": {},
   "source": [
    "# Code Segments\n",
    "\n",
    "Practice fixing the following code segments!"
   ]
  },
  {
   "cell_type": "markdown",
   "metadata": {},
   "source": [
    "## Segment 1: Alphabet List\n",
    "\n",
    "Intended behavior: create a list of characters from the string contained in the variable `alphabet`\n",
    "\n",
    "### Code:"
   ]
  },
  {
   "cell_type": "code",
   "execution_count": 2,
   "metadata": {
    "vscode": {
     "languageId": "html"
    }
   },
   "outputs": [
    {
     "data": {
      "text/html": [
       "\n",
       "<script>\n",
       "var alphabet = \"abcdefghijklmnopqrstuvwxyz\";\n",
       "var alphabetList = alphabet.split(\"\");\n",
       "\n",
       "console.log(alphabetList);\n",
       "</script>\n"
      ],
      "text/plain": [
       "<IPython.core.display.HTML object>"
      ]
     },
     "metadata": {},
     "output_type": "display_data"
    }
   ],
   "source": [
    "%%html\n",
    "\n",
    "<script>\n",
    "var alphabet = \"abcdefghijklmnopqrstuvwxyz\";\n",
    "var alphabetList = alphabet.split(\"\");\n",
    "\n",
    "console.log(alphabetList);\n",
    "</script>"
   ]
  },
  {
   "cell_type": "markdown",
   "metadata": {},
   "source": [
    "### What I Changed\n",
    "\n",
    "I changed...\n",
    "1. removed everything, and replaced it with a string.split method. It just converts the string to an array"
   ]
  },
  {
   "cell_type": "markdown",
   "metadata": {},
   "source": [
    "## Segment 2: Numbered Alphabet\n",
    "\n",
    "Intended behavior: print the number of a given alphabet letter within the alphabet. For example:\n",
    "```\n",
    "\"_\" is letter number _ in the alphabet\n",
    "```\n",
    "\n",
    "Where the underscores (_) are replaced with the letter and the position of that letter within the alphabet (e.g. a=1, b=2, etc.)\n",
    "\n",
    "### Code:"
   ]
  },
  {
   "cell_type": "code",
   "execution_count": 3,
   "metadata": {
    "vscode": {
     "languageId": "html"
    }
   },
   "outputs": [
    {
     "data": {
      "text/html": [
       "<script>\n",
       "var alphabet = \"abcdefghijklmnopqrstuvwxyz\";\n",
       "var alphabetList = alphabet.split(\"\");\n",
       "\n",
       "let letterNumber = 5\n",
       "\n",
       "console.log(alphabetList[letterNumber-1]+\" is letter number \" + String(letterNumber) + \"in the alphabet\")\n",
       "\n",
       "// Should output:\n",
       "// \"e\" is letter number 5 in the alphabet\n",
       "</script>\n"
      ],
      "text/plain": [
       "<IPython.core.display.HTML object>"
      ]
     },
     "metadata": {},
     "output_type": "display_data"
    }
   ],
   "source": [
    "%%html\n",
    "<script>\n",
    "var alphabet = \"abcdefghijklmnopqrstuvwxyz\";\n",
    "var alphabetList = alphabet.split(\"\");\n",
    "\n",
    "let letterNumber = 5\n",
    "\n",
    "console.log(alphabetList[letterNumber-1]+\" is letter number \" + String(letterNumber) + \"in the alphabet\")\n",
    "\n",
    "// Should output:\n",
    "// \"e\" is letter number 5 in the alphabet\n",
    "</script>"
   ]
  },
  {
   "cell_type": "markdown",
   "metadata": {},
   "source": [
    "### What I Changed\n",
    "\n",
    "I changed...\n",
    "1. Don't overcomplicate the way to search for a value in an array. the array starts at 0, so if you want the 5th value in the array you will be looking for the index of 5-1 or 4\n",
    "2. I removed the long for loop, and replaced it with a basic array value lookup\n",
    "\"alphabetList[letterNumber-1]\""
   ]
  },
  {
   "cell_type": "markdown",
   "metadata": {},
   "source": [
    "## Segment 3: Odd Numbers\n",
    "\n",
    "- Intended behavior: print a list of all the odd numbers below 10\n",
    "    * this currently just lists even numbers\n",
    "\n",
    "### Code:"
   ]
  },
  {
   "cell_type": "code",
   "execution_count": 4,
   "metadata": {
    "vscode": {
     "languageId": "html"
    }
   },
   "outputs": [
    {
     "data": {
      "text/html": [
       "\n",
       "<script>\n",
       "let odds = [];\n",
       "let i = 1;\n",
       "\n",
       "while (i <= 10) {\n",
       "  odds.push(i);\n",
       "  i += 2;\n",
       "}\n",
       "\n",
       "console.log(odds);\n",
       "</script>\n"
      ],
      "text/plain": [
       "<IPython.core.display.HTML object>"
      ]
     },
     "metadata": {},
     "output_type": "display_data"
    }
   ],
   "source": [
    "%%html\n",
    "\n",
    "<script>\n",
    "let odds = [];\n",
    "let i = 1;\n",
    "\n",
    "while (i <= 10) {\n",
    "  odds.push(i);\n",
    "  i += 2;\n",
    "}\n",
    "\n",
    "console.log(odds);\n",
    "</script>"
   ]
  },
  {
   "cell_type": "markdown",
   "metadata": {},
   "source": [
    "### What I Changed\n",
    "\n",
    "I Stated 1 at 1, and renamed the array evens to odds"
   ]
  },
  {
   "cell_type": "markdown",
   "metadata": {},
   "source": [
    "## Finding Multiples of 2 and 5"
   ]
  },
  {
   "cell_type": "markdown",
   "metadata": {},
   "source": [
    "The intended outcome is printing a number between 1 and 100 once, if it is a multiple of 2 or 5 \n",
    "- What values are outputted incorrectly. Why?\n",
    "    * any multiples of 10 (including 0) will be outputted twice becuase they are both a multiple of 2 and 5,\n",
    "    * this can be fixed with 1 single word: \"continue\"\n",
    "- Make changes to get the intended outcome."
   ]
  },
  {
   "cell_type": "code",
   "execution_count": 5,
   "metadata": {
    "vscode": {
     "languageId": "html"
    }
   },
   "outputs": [
    {
     "data": {
      "text/html": [
       "\n",
       "<script>\n",
       "var newNumbers = []\n",
       "\n",
       "for (let i=1; i<101; i++) {\n",
       "    if (i % 5 === 0){\n",
       "        newNumbers.push(i)\n",
       "        continue; //super important single line, this makes sure that if it was already a multiple of 5 we don't care if its a multiple of 2\n",
       "        }\n",
       "    if (i % 2 === 0){\n",
       "        newNumbers.push(i)\n",
       "    }\n",
       "}\n",
       "console.log(newNumbers) \n",
       "</script>\n"
      ],
      "text/plain": [
       "<IPython.core.display.HTML object>"
      ]
     },
     "metadata": {},
     "output_type": "display_data"
    }
   ],
   "source": [
    "%%html\n",
    "\n",
    "<script>\n",
    "var newNumbers = []\n",
    "\n",
    "for (let i=1; i<101; i++) {\n",
    "    if (i % 5 === 0){\n",
    "        newNumbers.push(i)\n",
    "        continue; //super important single line, this makes sure that if it was already a multiple of 5 we don't care if its a multiple of 2\n",
    "        }\n",
    "    if (i % 2 === 0){\n",
    "        newNumbers.push(i)\n",
    "    }\n",
    "}\n",
    "console.log(newNumbers) \n",
    "</script>\n"
   ]
  },
  {
   "cell_type": "markdown",
   "metadata": {},
   "source": [
    "### What I Changed\n",
    "\n",
    "I changed... 3 things:\n",
    "1. made the if statements look consisent with my style of code, I'm not actually sure if they were broken\n",
    "2. added a \"continue;\" in the if statement that checked if a number was was a multiple of 5, this was because once you know a value is an answer, you don't  need to check it twice.\n",
    "3. I removed the while loop, and made the for loop go through numbers between 1, 100"
   ]
  },
  {
   "cell_type": "markdown",
   "metadata": {},
   "source": [
    "# Challenge\n",
    "\n",
    "This code segment is at a very early stage of implementation.\n",
    "- What are some ways to (user) error proof this code?\n",
    "    1. Parse the order in a way that almost any way to write an input is accepted\n",
    "    2. Allow multiple answers with commas\n",
    "    3. run it as a button so you can change the answer at any time\n",
    "    4. Remember to add .toFixed() when doing math with decimals, while the computer will do a pretty good job, there may be some small Floating Point Errors \n",
    "- The code should be able to calculate the cost of the meal of the user\n",
    "\n",
    "Hint:\n",
    "- write a “single” test describing an expectation of the program of the program\n",
    "- test - input burger, expect output of burger price\n",
    "- run the test, which should fail because the program lacks that feature\n",
    "- write “just enough” code, the simplest possible, to make the test pass\n",
    "\n",
    "Then repeat this process until you get program working like you want it to work."
   ]
  },
  {
   "cell_type": "code",
   "execution_count": 6,
   "metadata": {
    "vscode": {
     "languageId": "html"
    }
   },
   "outputs": [
    {
     "data": {
      "text/html": [
       "<p><button onclick=\"OrderUp()\">Press To Order</button></p>\n",
       "<div>\n",
       "    <p id=\"total\">Total Cost:_</p>\n",
       "</div>\n",
       "\n",
       "<script>\n",
       "var menu =  {\"burger\": 3.99, \"fries\": 1.99, \"drink\": 0.99, \"strips\": 3.59}\n",
       "console.log(menu);\n",
       "\n",
       "function OrderUp(){ //nestle code within the function so it can be called from the button\n",
       "\n",
       "var total = 0; // will be final total\n",
       "\n",
       "var options = \"The Menu options are:\"; //create text for the menu\n",
       "\n",
       "for (var item in menu) {\n",
       "    options += \"\\n\"+ item + \"  $\" + menu[item].toFixed(2); //add a new line listing the next item\n",
       "}\n",
       "\n",
       "var order = prompt(options,\"Burger, Fries\"); //prompt for the order\n",
       "order = order.trim(); //remove space from front and end\n",
       "order = order.replaceAll(\" \",\"\") // remove spaces\n",
       "var choices = order.toLowerCase().split(\",\");//split into an array at the commas\n",
       "\n",
       "for (let i=0;i<choices.length;i++){\n",
       "    if (menu[choices[i]]==null){continue}; // check if the choice exists, if not then move on\n",
       "    total += menu[choices[i]]; //add to total\n",
       "}\n",
       "\n",
       "//code should add the price of the menu items selected by the user \n",
       "    document.getElementById(\"total\").innerText = \"Total Cost: $\"+String(total.toFixed(2));\n",
       "}\n",
       "</script>\n"
      ],
      "text/plain": [
       "<IPython.core.display.HTML object>"
      ]
     },
     "metadata": {},
     "output_type": "display_data"
    }
   ],
   "source": [
    "%%html\n",
    "<p><button onclick=\"OrderUp()\">Press To Order</button></p>\n",
    "<div>\n",
    "    <p id=\"total\">Total Cost:_</p>\n",
    "</div>\n",
    "\n",
    "<script>\n",
    "var menu =  {\"burger\": 3.99, \"fries\": 1.99, \"drink\": 0.99, \"strips\": 3.59}\n",
    "console.log(menu);\n",
    "\n",
    "function OrderUp(){ //nestle code within the function so it can be called from the button\n",
    "\n",
    "var total = 0; // will be final total\n",
    "\n",
    "var options = \"The Menu options are:\"; //create text for the menu\n",
    "\n",
    "for (var item in menu) {\n",
    "    options += \"\\n\"+ item + \"  $\" + menu[item].toFixed(2); //add a new line listing the next item\n",
    "}\n",
    "\n",
    "var order = prompt(options,\"Burger, Fries\"); //prompt for the order\n",
    "order = order.trim(); //remove space from front and end\n",
    "order = order.replaceAll(\" \",\"\") // remove spaces\n",
    "var choices = order.toLowerCase().split(\",\");//split into an array at the commas\n",
    "\n",
    "for (let i=0;i<choices.length;i++){\n",
    "    if (menu[choices[i]]==null){continue}; // check if the choice exists, if not then move on\n",
    "    total += menu[choices[i]]; //add to total\n",
    "}\n",
    "\n",
    "//code should add the price of the menu items selected by the user \n",
    "    document.getElementById(\"total\").innerText = \"Total Cost: $\"+String(total.toFixed(2));\n",
    "}\n",
    "</script>"
   ]
  },
  {
   "cell_type": "markdown",
   "metadata": {},
   "source": [
    "## Hacks\n",
    "- Fix the errors in the first three segments in this notebook and say what you changed in the code cell under \"What I Changed\" (Challenge is optional)"
   ]
  }
 ],
 "metadata": {
  "kernelspec": {
   "display_name": "Python 3.10.6 64-bit",
   "language": "python",
   "name": "python3"
  },
  "language_info": {
   "codemirror_mode": {
    "name": "ipython",
    "version": 3
   },
   "file_extension": ".py",
   "mimetype": "text/x-python",
   "name": "python",
   "nbconvert_exporter": "python",
   "pygments_lexer": "ipython3",
   "version": "3.10.12"
  },
  "orig_nbformat": 4,
  "vscode": {
   "interpreter": {
    "hash": "aee8b7b246df8f9039afb4144a1f6fd8d2ca17a180786b69acc140d282b71a49"
   }
  }
 },
 "nbformat": 4,
 "nbformat_minor": 2
}
